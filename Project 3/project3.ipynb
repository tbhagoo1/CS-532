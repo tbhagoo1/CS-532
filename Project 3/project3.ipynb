{
 "cells": [
  {
   "cell_type": "code",
   "execution_count": 83,
   "metadata": {},
   "outputs": [],
   "source": [
    "import pymongo\n",
    "from datetime import datetime, timedelta\n",
    "%matplotlib inline\n",
    "import matplotlib.pyplot as plt\n",
    "from __future__ import print_function\n",
    "from ipywidgets import interact, interactive, fixed, interact_manual\n",
    "import ipywidgets as widgets\n",
    "from IPython.display import display\n",
    "import string\n",
    "from dateutil.relativedelta import relativedelta\n",
    "\n",
    "client = pymongo.MongoClient('localhost',27017)\n",
    "mydb = client['project3']\n",
    "mycol = mydb['COVID19']\n",
    "\n",
    "def display_country():\n",
    "    country = []\n",
    "    for document in mycol.distinct(\"Country\"):\n",
    "        country.append(document)\n",
    "    return country\n",
    "\n",
    "def lister(x):\n",
    "    l =[]\n",
    "    for i in range(1,x+1):\n",
    "        l.append(i)\n",
    "    return l\n",
    "\n",
    "def display_WHO():\n",
    "    who = []\n",
    "    for document1 in mycol.distinct(\"WHO_Region\"):\n",
    "        who.append(document1)\n",
    "    return who\n",
    "\n",
    "def display_letter():\n",
    "    letter = list(string.ascii_uppercase)\n",
    "    return letter\n",
    "\n",
    "country = display_country()\n",
    "month = lister(12)\n",
    "date = lister(31)\n",
    "who = display_WHO()\n",
    "alpha = display_letter()"
   ]
  },
  {
   "cell_type": "code",
   "execution_count": 77,
   "metadata": {},
   "outputs": [
    {
     "data": {
      "application/vnd.jupyter.widget-view+json": {
       "model_id": "82b318f8e3564c63b43628152bd57544",
       "version_major": 2,
       "version_minor": 0
      },
      "text/plain": [
       "interactive(children=(Dropdown(description='country', options=('Afghanistan', 'Albania', 'Algeria', 'American …"
      ]
     },
     "metadata": {},
     "output_type": "display_data"
    }
   ],
   "source": [
    "def query1(country,month,date):    # Count of new cases\n",
    "    x = []\n",
    "    y = []\n",
    "    date1 = \"\"\n",
    "    date2 = \"\"\n",
    "    if int(month) < 10:\n",
    "        date1 = \"2020-0\"+ str(month)\n",
    "        date2 = \"2020-0\"+ str(month)\n",
    "    else:\n",
    "        date1 = \"2020-\"+ str(month)\n",
    "        date2 = \"2020-\"+ str(month)\n",
    "        \n",
    "    if int(date) < 10:\n",
    "        date1 = date1 + \"-0\" + str(date)\n",
    "    else :\n",
    "        date1 = date1 + \"-\" + str(date)\n",
    "    date = int(date)+10\n",
    "    date2 = date2 + \"-\" + str(date)\n",
    "    query = { \"Country\": country, \"Date\": {\"$gt\": date1, \"$lte\": date2}}\n",
    "    result = mycol.find(query,{ \"_id\":0, \"Date\":1,\"New_Cases\":1,})\n",
    "    for l in result:\n",
    "        x.append(l[\"Date\"])\n",
    "        y.append(l[\"New_Cases\"])\n",
    "    plt.rcParams['figure.figsize'] = (20.0, 10.0)\n",
    "    plt.plot(x, y) \n",
    "\n",
    "interactive_plot = interactive(query1, country = widgets.Dropdown(options = country, value = \"Afghanistan\"),\n",
    "                                       month = widgets.Dropdown(options = month, value = 1),\n",
    "                                       date = widgets.Dropdown(options = date, value = 1))\n",
    "output = interactive_plot.children[-1]\n",
    "output.layout.height = '500px'\n",
    "display(interactive_plot)"
   ]
  },
  {
   "cell_type": "code",
   "execution_count": 78,
   "metadata": {},
   "outputs": [
    {
     "data": {
      "application/vnd.jupyter.widget-view+json": {
       "model_id": "196c96bd4b334f2a9907d5333f7efa20",
       "version_major": 2,
       "version_minor": 0
      },
      "text/plain": [
       "interactive(children=(Dropdown(description='letter', options=('A', 'B', 'C', 'D', 'E', 'F', 'G', 'H', 'I', 'J'…"
      ]
     },
     "metadata": {},
     "output_type": "display_data"
    }
   ],
   "source": [
    "def query2(letter,month):   # Maximum new cases and new deaths count\n",
    "    l_s = \"^\" + letter\n",
    "    x = []\n",
    "    y1 = []\n",
    "    y2 = []\n",
    "    date1 = \"\"\n",
    "    date2 = \"\"\n",
    "    date = 1\n",
    "    if int(month) < 10:\n",
    "        date1 = \"2020-0\"+ str(month)\n",
    "        date2 = \"2020-0\"+ str(month)\n",
    "    else:\n",
    "        date1 = \"2020-\"+ str(month)\n",
    "        date2 = \"2020-\"+ str(month)\n",
    "        \n",
    "    if int(date) < 10:\n",
    "        date1 = date1 + \"-0\" + str(date)\n",
    "    else :\n",
    "        date1 = date1 + \"-\" + str(date)\n",
    "    date = int(date)+30\n",
    "    date2 = date2 + \"-\" + str(date)\n",
    "    query = [    {\"$match\" : {\"Country\": {\"$regex\": l_s}, \"Date\":{\"$gt\": date1, \"$lte\": date2}}},\n",
    "                 {\"$group\": { \"_id\": \"$Country\",\n",
    "                             \"Max_d\": {\"$max\":\"$New_Deaths\"},\n",
    "                             \"Max_c\": {\"$max\":\"$New_Cases\"}}}\n",
    "            ]\n",
    "    result = mycol.aggregate(query)\n",
    "    for l in result:\n",
    "        x.append(l[\"_id\"])\n",
    "        y1.append(l[\"Max_d\"])\n",
    "        y2.append(l[\"Max_c\"])\n",
    "    fig, ax1 = plt.subplots()\n",
    "    plt.xticks(rotation = 45)\n",
    "    ax2 = ax1.twinx()\n",
    "    ax1.plot(x, y1, 'r-')\n",
    "    ax2.plot(x, y2, 'b-')\n",
    "\n",
    "    ax1.set_xlabel('Country')\n",
    "    ax1.set_ylabel('Max_Deaths', color='r')\n",
    "    ax2.set_ylabel('Max_Cases', color='b')\n",
    "\n",
    "interactive_plot = interactive(query2,letter = widgets.Dropdown(options = alpha, value = \"A\"),\n",
    "                                       month = widgets.Dropdown(options = month, value = 1))\n",
    "output = interactive_plot.children[-1]\n",
    "output.layout.height = '550px'\n",
    "display(interactive_plot)\n"
   ]
  },
  {
   "cell_type": "code",
   "execution_count": 79,
   "metadata": {},
   "outputs": [
    {
     "data": {
      "application/vnd.jupyter.widget-view+json": {
       "model_id": "31b441eb48a74686993b2b224b5a1eb9",
       "version_major": 2,
       "version_minor": 0
      },
      "text/plain": [
       "interactive(children=(Dropdown(description='letter', options=('A', 'B', 'C', 'D', 'E', 'F', 'G', 'H', 'I', 'J'…"
      ]
     },
     "metadata": {},
     "output_type": "display_data"
    }
   ],
   "source": [
    "def query3(letter,month): # Minimum new cases and new deaths count\n",
    "    l_s = \"^\" + letter\n",
    "    x = []\n",
    "    y1 = []\n",
    "    y2 = []\n",
    "    date1 = \"\"\n",
    "    date2 = \"\"\n",
    "    date = 1\n",
    "    if int(month) < 10:\n",
    "        date1 = \"2020-0\"+ str(month)\n",
    "        date2 = \"2020-0\"+ str(month)\n",
    "    else:\n",
    "        date1 = \"2020-\"+ str(month)\n",
    "        date2 = \"2020-\"+ str(month)\n",
    "        \n",
    "    if int(date) < 10:\n",
    "        date1 = date1 + \"-0\" + str(date)\n",
    "    else :\n",
    "        date1 = date1 + \"-\" + str(date)\n",
    "    date = int(date)+30\n",
    "    date2 = date2 + \"-\" + str(date)\n",
    "    query = [    {\"$match\" : {\"Country\": {\"$regex\": l_s}, \"Date\":{\"$gt\": date1, \"$lte\": date2}}},\n",
    "                 {\"$group\": { \"_id\": \"$Country\",\n",
    "                             \"min_d\": {\"$min\":\"$New_Deaths\"},\n",
    "                             \"min_c\": {\"$min\":\"$New_Cases\"}}}\n",
    "            ]\n",
    "    result = mycol.aggregate(query)\n",
    "    for l in result:\n",
    "        x.append(l[\"_id\"])\n",
    "        y1.append(l[\"min_d\"])\n",
    "        y2.append(l[\"min_c\"])\n",
    "    fig, ax1 = plt.subplots()\n",
    "    plt.xticks(rotation = 45)\n",
    "    ax2 = ax1.twinx()\n",
    "    ax1.plot(x, y1, 'r-')\n",
    "    ax2.plot(x, y2, 'b-')\n",
    "\n",
    "    ax1.set_xlabel('Country')\n",
    "    ax1.set_ylabel('min_Deaths', color='r')\n",
    "    ax2.set_ylabel('min_Cases', color='b')\n",
    "\n",
    "interactive_plot = interactive(query3,letter = widgets.Dropdown(options = alpha, value = \"A\"),\n",
    "                                       month = widgets.Dropdown(options = month, value = 1))\n",
    "output = interactive_plot.children[-1]\n",
    "output.layout.height = '550px'\n",
    "display(interactive_plot)\n",
    "\n"
   ]
  },
  {
   "cell_type": "code",
   "execution_count": 80,
   "metadata": {},
   "outputs": [
    {
     "data": {
      "application/vnd.jupyter.widget-view+json": {
       "model_id": "8d23335a4a7543cda715f099e99f8f06",
       "version_major": 2,
       "version_minor": 0
      },
      "text/plain": [
       "interactive(children=(Dropdown(description='letter', options=('A', 'B', 'C', 'D', 'E', 'F', 'G', 'H', 'I', 'J'…"
      ]
     },
     "metadata": {},
     "output_type": "display_data"
    }
   ],
   "source": [
    "def query4(letter): # Sum of cumulative new cases and new deaths count:\n",
    "    l = \"^\" + letter\n",
    "    x = []\n",
    "    y1 = []\n",
    "    y2 = []\n",
    "    query = [    {\"$match\" : {\"Country\": {\"$regex\": l}}},\n",
    "                 {\"$group\":{ \"_id\": \"$Country\",\n",
    "                             \"Average\":{ \"$sum\":\"$ Cumulative_Cases\"},\n",
    "                             \"Average_d\":{ \"$sum\":\"$Cumulative_Deaths\"}}}\n",
    "            ]\n",
    "    result = mycol.aggregate(query)\n",
    "    for l in result:\n",
    "        x.append(l[\"_id\"])\n",
    "        y1.append(l[\"Average\"])\n",
    "        y2.append(l[\"Average_d\"])\n",
    "    fig, ax1 = plt.subplots()\n",
    "    plt.xticks(rotation = 45)\n",
    "    ax2 = ax1.twinx()\n",
    "    ax1.plot(x, y1, 'r-')\n",
    "    ax2.plot(x, y2, 'b-')\n",
    "\n",
    "    ax1.set_xlabel('Country')\n",
    "    ax1.set_ylabel('Cumulative_Cases', color='r')\n",
    "    ax2.set_ylabel('Cumulative_Deaths', color='b')\n",
    "    \n",
    "interactive_plot = interactive(query4,letter = widgets.Dropdown(options = alpha, value = \"A\" ))\n",
    "output = interactive_plot.children[-1]\n",
    "output.layout.height = '550px'\n",
    "interactive_plot\n",
    "\n",
    " "
   ]
  },
  {
   "cell_type": "code",
   "execution_count": 81,
   "metadata": {},
   "outputs": [
    {
     "data": {
      "application/vnd.jupyter.widget-view+json": {
       "model_id": "9e03beb7f45944f9b8987d4b7efb84fc",
       "version_major": 2,
       "version_minor": 0
      },
      "text/plain": [
       "interactive(children=(Dropdown(description='region', options=('EMRO', 'EURO', 'AFRO', 'WPRO', 'AMRO', 'SEARO',…"
      ]
     },
     "metadata": {},
     "output_type": "display_data"
    }
   ],
   "source": [
    "def query5(region): # Average of new deaths count\n",
    "    x = []\n",
    "    y = []\n",
    "    query = [    {\"$match\" : {\"WHO_Region\": region}},\n",
    "                 {\"$group\":{ \"_id\": \"$Country\",\n",
    "                             \"Average\":{ \"$avg\": \"$New_Deaths\"}}}\n",
    "            ]\n",
    "    result = mycol.aggregate(query)\n",
    "    for l in result:\n",
    "        x.append(l[\"_id\"])\n",
    "        y.append(l[\"Average\"])\n",
    "    plt.rcParams['figure.figsize'] = (25.0, 10.0)\n",
    "    plt.xticks(rotation=45)\n",
    "    plt.plot(x, y) \n",
    "\n",
    "interactive_plot = interactive(query5, region = widgets.Dropdown(options = who, value = \"EMRO\"))\n",
    "output = interactive_plot.children[-1]\n",
    "output.layout.height = '550px'\n",
    "display(interactive_plot)\n",
    "\n"
   ]
  },
  {
   "cell_type": "code",
   "execution_count": 82,
   "metadata": {},
   "outputs": [
    {
     "data": {
      "application/vnd.jupyter.widget-view+json": {
       "model_id": "9db405d56f6a49338c658cf668324ce9",
       "version_major": 2,
       "version_minor": 0
      },
      "text/plain": [
       "interactive(children=(Dropdown(description='country', options=('Afghanistan', 'Albania', 'Algeria', 'American …"
      ]
     },
     "metadata": {},
     "output_type": "display_data"
    }
   ],
   "source": [
    "def query6(country, month): # Ratio of new cases count and cumulative cases count AND \n",
    "                            # ratio of  new deaths count and cumulative deaths count\n",
    "    x = []\n",
    "    y1 = []\n",
    "    y2 = []\n",
    "    date = 1\n",
    "    date1 = \"\"\n",
    "    date2 = \"\"\n",
    "    if int(month) < 10:\n",
    "        date1 = \"2020-0\"+ str(month)\n",
    "        date2 = \"2020-0\"+ str(month)\n",
    "    else:\n",
    "        date1 = \"2020-\"+ str(month)\n",
    "        date2 = \"2020-\"+ str(month)\n",
    "        \n",
    "    if int(date) < 10:\n",
    "        date1 = date1 + \"-0\" + str(date)\n",
    "    else :\n",
    "        date1 = date1 + \"-\" + str(date)\n",
    "    date = int(date)+30\n",
    "    date2 = date2 + \"-\" + str(date)\n",
    "    query = [ {\"$match\": {\"Country\":country,\" Cumulative_Cases\": {\"$ne\": 0}, \"Cumulative_Deaths\": {\"$ne\": 0}, \"Date\": {\"$gt\": date1, \"$lte\": date2}}},\n",
    "              {\"$project\": {\n",
    "                            \"Date\":\"$Date\",\n",
    "                            \"Ratio_New\": { \"$divide\" : [ \"$New_Cases\", \"$ Cumulative_Cases\" ] },\n",
    "                            \"Ratio_Deaths\": { \"$divide\" : [ \"$New_Deaths\", \"$Cumulative_Deaths\" ] } }},\n",
    "            ]\n",
    "    result = mycol.aggregate(query)\n",
    "    for l in result:\n",
    "        x.append(l[\"Date\"])\n",
    "        y1.append(l[\"Ratio_New\"])\n",
    "        y2.append(l[\"Ratio_Deaths\"])\n",
    "    fig, ax1 = plt.subplots()\n",
    "    plt.xticks(rotation = 45)\n",
    "    ax2 = ax1.twinx()\n",
    "    ax1.plot(x, y1, 'r-')\n",
    "    ax2.plot(x, y2, 'b-')\n",
    "\n",
    "    ax1.set_xlabel('Date')\n",
    "    ax1.set_ylabel('Ratio_Cases', color='r')\n",
    "    ax2.set_ylabel('Ratio_Deaths', color='b')\n",
    " \n",
    "interactive_plot = interactive(query6, country = widgets.Dropdown(options = country, value = \"Afghanistan\"),\n",
    "                                       month = widgets.Dropdown(options = month, value = 1))\n",
    "output = interactive_plot.children[-1]\n",
    "output.layout.height = '550px'\n",
    "display(interactive_plot) \n",
    "    \n",
    "    "
   ]
  },
  {
   "cell_type": "code",
   "execution_count": null,
   "metadata": {},
   "outputs": [],
   "source": []
  }
 ],
 "metadata": {
  "kernelspec": {
   "display_name": "Python 3",
   "language": "python",
   "name": "python3"
  },
  "language_info": {
   "codemirror_mode": {
    "name": "ipython",
    "version": 3
   },
   "file_extension": ".py",
   "mimetype": "text/x-python",
   "name": "python",
   "nbconvert_exporter": "python",
   "pygments_lexer": "ipython3",
   "version": "3.8.5"
  }
 },
 "nbformat": 4,
 "nbformat_minor": 4
}
